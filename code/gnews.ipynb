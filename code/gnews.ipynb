{
 "cells": [
  {
   "cell_type": "code",
   "execution_count": 28,
   "metadata": {},
   "outputs": [],
   "source": [
    "import pandas as pd\n",
    "import json\n",
    "from gnews import GNews"
   ]
  },
  {
   "cell_type": "markdown",
   "metadata": {},
   "source": [
    "# Metadata"
   ]
  },
  {
   "cell_type": "code",
   "execution_count": null,
   "metadata": {},
   "outputs": [],
   "source": [
    "google_news = GNews()\n",
    "news = google_news.get_news('Pakistan')"
   ]
  },
  {
   "cell_type": "code",
   "execution_count": 13,
   "metadata": {},
   "outputs": [
    {
     "data": {
      "text/plain": [
       "{'title': 'Five Chinese nationals among six killed in suicide bomb attack in Pakistan - Al Jazeera English',\n",
       " 'description': 'Five Chinese nationals among six killed in suicide bomb attack in Pakistan  Al Jazeera EnglishSuicide Attack Kills Chinese Nationals Working in Pakistan  The Wall Street JournalSix killed after suicide bomber rams convoy of Chinese engineers in Pakistan  The Guardian',\n",
       " 'published date': 'Tue, 26 Mar 2024 12:56:15 GMT',\n",
       " 'url': 'https://news.google.com/rss/articles/CBMicGh0dHBzOi8vd3d3LmFsamF6ZWVyYS5jb20vbmV3cy8yMDI0LzMvMjYvZml2ZS1jaGluZXNlLW5hdGlvbmFscy1raWxsZWQtaW4tc3VpY2lkZS1ib21iLWF0dGFjay1pbi1wYWtpc3Rhbi1wb2xpY2XSAXRodHRwczovL3d3dy5hbGphemVlcmEuY29tL2FtcC9uZXdzLzIwMjQvMy8yNi9maXZlLWNoaW5lc2UtbmF0aW9uYWxzLWtpbGxlZC1pbi1zdWljaWRlLWJvbWItYXR0YWNrLWluLXBha2lzdGFuLXBvbGljZQ?oc=5&hl=en-US&gl=US&ceid=US:en',\n",
       " 'publisher': {'href': 'https://www.aljazeera.com',\n",
       "  'title': 'Al Jazeera English'}}"
      ]
     },
     "execution_count": 13,
     "metadata": {},
     "output_type": "execute_result"
    }
   ],
   "source": [
    "# First new\n",
    "news[0]"
   ]
  },
  {
   "cell_type": "code",
   "execution_count": 24,
   "metadata": {},
   "outputs": [],
   "source": [
    "# Save in json file\n",
    "with open('medata-news.json', 'w') as f:\n",
    "    json.dump(news, f, indent=4)"
   ]
  },
  {
   "cell_type": "markdown",
   "metadata": {},
   "source": [
    "# Content"
   ]
  },
  {
   "cell_type": "code",
   "execution_count": 23,
   "metadata": {},
   "outputs": [
    {
     "name": "stdout",
     "output_type": "stream",
     "text": [
      "title: Five Chinese nationals among six killed in suicide bomb attack in Pakistan\n",
      "--------------------------------------------------\n",
      "author: ['Abid Hussain']\n",
      "--------------------------------------------------\n",
      "text: Attacker rams explosives-laden vehicle into convoy of Chinese engineers in Khyber Pakhtunkhwa hours after Baloch rebels attacked a naval base.\n",
      "\n",
      "Islamabad, Pakistan – Five Chinese nationals and a Pakistani driver have been killed after a suicide attacker rammed his explosive-laden vehicle into their convoy near Besham city in northwest Pakistan’s Khyber Pakhtunkhwa province.\n",
      "\n",
      "The incident happened on Tuesday when the convoy was on its way from Islamabad to Dasu, the site of a key hydroelectric dam being constructed by a Chinese company, about 270km (167 miles) from the capital.\n",
      "\n",
      "“Our rescue team has successfully retrieved bodies of four people whereas recovery of two more people is still ongoing,” Bilal Faizi, spokesman for Rescue 1122 group in Khyber Pakhtunkhwa, told Al Jazeera.\n",
      "\n",
      "Rescue officials said the vehicle carrying the Chinese nationals fell in a gorge after the blast and at least two bodies were badly burnt, making their identification difficult.\n",
      "\n",
      "No armed group has so far claimed responsibility for the attack. The Chinese embassy in Islamabad or the Chinese foreign ministry in Beijing have not commented on the incident yet.\n",
      "\n",
      "China is a close ally of Pakistan and has invested heavily in various projects in the South Asian country. But the safety of Chinese nationals working on those projects is often threatened by several armed groups in the region. In 2021, the bombing of a bus in Dasu killed 13 people, nine of them Chinese.\n",
      "\n",
      "Dasu is about 80km (49 miles) further northwest from Besham where Tuesday’s suicide attack happened – the third such incident in a week.\n",
      "\n",
      "On Monday night, separatist fighters attacked a naval airbase in Turbat area in the southwestern province of Balochistan, killing at least one paramilitary soldier. Officials said all five of the assailants were also killed in retaliatory fire.\n",
      "\n",
      "The Baloch Liberation Army (BLA), which has been behind several attacks on Pakistani and Chinese interests in the region and elsewhere, claimed responsibility for the Turbat attack.\n",
      "\n",
      "Last week, another BLA attack at Gwadar, a port city in Balochistan, killed two soldiers and eight of the group’s fighters. Gwadar is the centrepiece of the $62bn dollar China-Pakistan Economic Corridor (CPEC) project, Pakistan’s most ambitious infrastructure and investment project in recent years.\n",
      "\n",
      "In a statement, President Asif Ali Zardari condemned the attack on Chinese nationals. “Anti-Pakistani elements will never succeed in harming the Pakistan-China friendship,” he said.\n",
      "\n",
      "Interior Minister Mohsin Naqvi said “enemies” had targeted the citizens of Pakistan’s “extremely trusted friendly country”.\n",
      "\n",
      "“This was not an attack on Chinese citizens but also on Pakistan,” he said.\n",
      "\n",
      "Prime Minister Shehbaz Sharif, who assumed power for the second time earlier this month, is expected to visit China next month.\n",
      "--------------------------------------------------\n",
      "images: {'https://news.google.com/wp-content/uploads/2024/03/2023-10-07T152858Z_1330952258_RC21N3A297ZB_RTRMADP_3_PAKISTAN-DAILYLIFE-1711450049.jpg?w=770&resize=770%2C513', 'https://news.google.com/wp-content/uploads/2024/03/rescue-1122-1711451687.jpg?resize=770%2C513&quality=80', 'https://www.aljazeera.com/wp-content/uploads/2024/03/rescue-1122-1711451687.jpg?resize=1200%2C630', 'https://news.google.com/wp-content/uploads/2024/03/rescue-gorge-1711451694.jpg?w=770&resize=770%2C513', 'https://news.google.com/static/media/aj-footer-logo.bac952ad.svg'}\n",
      "--------------------------------------------------\n"
     ]
    }
   ],
   "source": [
    "article = google_news.get_full_article(news[0]['url'])\n",
    "print(f'title: {article.title}')\n",
    "print('-'*50)\n",
    "print(f'author: {article.authors}')\n",
    "print('-'*50)\n",
    "print(f'text: {article.text}')\n",
    "print('-'*50)\n",
    "print(f'images: {article.images}')\n",
    "print('-'*50)"
   ]
  },
  {
   "cell_type": "code",
   "execution_count": 41,
   "metadata": {},
   "outputs": [
    {
     "name": "stdout",
     "output_type": "stream",
     "text": [
      "An error occurred while fetching the article: Article `download()` failed with 401 Client Error: HTTP Forbidden for url: https://www.reuters.com/world/asia-pacific/six-killed-militant-attack-pakistan-naval-base-say-officials-2024-03-26/ on URL https://news.google.com/rss/articles/CBMic2h0dHBzOi8vd3d3LnJldXRlcnMuY29tL3dvcmxkL2FzaWEtcGFjaWZpYy9zaXgta2lsbGVkLW1pbGl0YW50LWF0dGFjay1wYWtpc3Rhbi1uYXZhbC1iYXNlLXNheS1vZmZpY2lhbHMtMjAyNC0wMy0yNi_SAQA?oc=5&hl=en-US&gl=US&ceid=US:en\n",
      "An error occurred while fetching the article: Article `download()` failed with 403 Client Error: Forbidden for url: https://www.wsj.com/world/asia/an-economy-perpetually-in-crisis-is-shredding-pakistans-middle-class-ef640b84 on URL https://news.google.com/rss/articles/CBMibGh0dHBzOi8vd3d3Lndzai5jb20vd29ybGQvYXNpYS9hbi1lY29ub215LXBlcnBldHVhbGx5LWluLWNyaXNpcy1pcy1zaHJlZGRpbmctcGFraXN0YW5zLW1pZGRsZS1jbGFzcy1lZjY0MGI4NNIBAA?oc=5&hl=en-US&gl=US&ceid=US:en\n",
      "An error occurred while fetching the article: Article `download()` failed with 403 Client Error: Max restarts limit reached for url: https://www.forbes.com/sites/timellis/2024/03/26/what-can-pakistan-do-to-overcome-inferiority-complex-against-india/ on URL https://news.google.com/rss/articles/CBMidGh0dHBzOi8vd3d3LmZvcmJlcy5jb20vc2l0ZXMvdGltZWxsaXMvMjAyNC8wMy8yNi93aGF0LWNhbi1wYWtpc3Rhbi1kby10by1vdmVyY29tZS1pbmZlcmlvcml0eS1jb21wbGV4LWFnYWluc3QtaW5kaWEv0gF4aHR0cHM6Ly93d3cuZm9yYmVzLmNvbS9zaXRlcy90aW1lbGxpcy8yMDI0LzAzLzI2L3doYXQtY2FuLXBha2lzdGFuLWRvLXRvLW92ZXJjb21lLWluZmVyaW9yaXR5LWNvbXBsZXgtYWdhaW5zdC1pbmRpYS9hbXAv?oc=5&hl=en-US&gl=US&ceid=US:en\n",
      "An error occurred while fetching the article: Article `download()` failed with 403 Client Error: Forbidden for url: https://www.newsweek.com/china-pakistan-attack-bombing-engineers-killed-1883557 on URL https://news.google.com/rss/articles/CBMiT2h0dHBzOi8vd3d3Lm5ld3N3ZWVrLmNvbS9jaGluYS1wYWtpc3Rhbi1hdHRhY2stYm9tYmluZy1lbmdpbmVlcnMta2lsbGVkLTE4ODM1NTfSAQA?oc=5&hl=en-US&gl=US&ceid=US:en\n",
      "An error occurred while fetching the article: Article `download()` failed with 403 Client Error: Forbidden for url: https://www.barrons.com/news/pakistan-mapping-resident-afghans-before-eviction-push-f260f8cc on URL https://news.google.com/rss/articles/CBMiXGh0dHBzOi8vd3d3LmJhcnJvbnMuY29tL25ld3MvcGFraXN0YW4tbWFwcGluZy1yZXNpZGVudC1hZmdoYW5zLWJlZm9yZS1ldmljdGlvbi1wdXNoLWYyNjBmOGNj0gFgaHR0cHM6Ly93d3cuYmFycm9ucy5jb20vYW1wL25ld3MvcGFraXN0YW4tbWFwcGluZy1yZXNpZGVudC1hZmdoYW5zLWJlZm9yZS1ldmljdGlvbi1wdXNoLWYyNjBmOGNj?oc=5&hl=en-US&gl=US&ceid=US:en\n",
      "An error occurred while fetching the article: Article `download()` failed with 401 Client Error: HTTP Forbidden for url: https://www.reuters.com/world/asia-pacific/five-chinese-nationals-killed-suicide-bomb-attack-pakistan-2024-03-26/ on URL https://news.google.com/rss/articles/CBMicWh0dHBzOi8vd3d3LnJldXRlcnMuY29tL3dvcmxkL2FzaWEtcGFjaWZpYy9maXZlLWNoaW5lc2UtbmF0aW9uYWxzLWtpbGxlZC1zdWljaWRlLWJvbWItYXR0YWNrLXBha2lzdGFuLTIwMjQtMDMtMjYv0gEA?oc=5&hl=en-US&gl=US&ceid=US:en\n",
      "An error occurred while fetching the article: Article `download()` failed with 403 Client Error: Forbidden for url: https://www.barrons.com/news/china-says-strongly-condemns-terrorist-act-after-suicide-attack-in-pakistan-9e93ee73 on URL https://news.google.com/rss/articles/CBMicWh0dHBzOi8vd3d3LmJhcnJvbnMuY29tL25ld3MvY2hpbmEtc2F5cy1zdHJvbmdseS1jb25kZW1ucy10ZXJyb3Jpc3QtYWN0LWFmdGVyLXN1aWNpZGUtYXR0YWNrLWluLXBha2lzdGFuLTllOTNlZTcz0gF1aHR0cHM6Ly93d3cuYmFycm9ucy5jb20vYW1wL25ld3MvY2hpbmEtc2F5cy1zdHJvbmdseS1jb25kZW1ucy10ZXJyb3Jpc3QtYWN0LWFmdGVyLXN1aWNpZGUtYXR0YWNrLWluLXBha2lzdGFuLTllOTNlZTcz?oc=5&hl=en-US&gl=US&ceid=US:en\n",
      "An error occurred while fetching the article: Article `download()` failed with 403 Client Error: Forbidden for url: https://www.barrons.com/news/five-chinese-dam-workers-driver-killed-in-pakistan-suicide-attack-30df9c17 on URL https://news.google.com/rss/articles/CBMiZ2h0dHBzOi8vd3d3LmJhcnJvbnMuY29tL25ld3MvZml2ZS1jaGluZXNlLWRhbS13b3JrZXJzLWRyaXZlci1raWxsZWQtaW4tcGFraXN0YW4tc3VpY2lkZS1hdHRhY2stMzBkZjljMTfSAWtodHRwczovL3d3dy5iYXJyb25zLmNvbS9hbXAvbmV3cy9maXZlLWNoaW5lc2UtZGFtLXdvcmtlcnMtZHJpdmVyLWtpbGxlZC1pbi1wYWtpc3Rhbi1zdWljaWRlLWF0dGFjay0zMGRmOWMxNw?oc=5&hl=en-US&gl=US&ceid=US:en\n",
      "An error occurred while fetching the article: Article `download()` failed with 403 Client Error: Forbidden for url: https://www.barrons.com/news/five-chinese-nationals-killed-in-suicide-bomb-attack-pakistan-police-291d52ee on URL https://news.google.com/rss/articles/CBMiamh0dHBzOi8vd3d3LmJhcnJvbnMuY29tL25ld3MvZml2ZS1jaGluZXNlLW5hdGlvbmFscy1raWxsZWQtaW4tc3VpY2lkZS1ib21iLWF0dGFjay1wYWtpc3Rhbi1wb2xpY2UtMjkxZDUyZWXSAW5odHRwczovL3d3dy5iYXJyb25zLmNvbS9hbXAvbmV3cy9maXZlLWNoaW5lc2UtbmF0aW9uYWxzLWtpbGxlZC1pbi1zdWljaWRlLWJvbWItYXR0YWNrLXBha2lzdGFuLXBvbGljZS0yOTFkNTJlZQ?oc=5&hl=en-US&gl=US&ceid=US:en\n",
      "An error occurred while fetching the article: Article `download()` failed with 401 Client Error: HTTP Forbidden for url: https://www.reuters.com/world/us-diplomat-lu-urges-pakistan-probe-election-possibly-re-run-some-votes-2024-03-21/ on URL https://news.google.com/rss/articles/CBMicWh0dHBzOi8vd3d3LnJldXRlcnMuY29tL3dvcmxkL3VzLWRpcGxvbWF0LWx1LXVyZ2VzLXBha2lzdGFuLXByb2JlLWVsZWN0aW9uLXBvc3NpYmx5LXJlLXJ1bi1zb21lLXZvdGVzLTIwMjQtMDMtMjEv0gEA?oc=5&hl=en-US&gl=US&ceid=US:en\n",
      "An error occurred while fetching the article: Article `download()` failed with 401 Client Error: HTTP Forbidden for url: https://www.reuters.com/world/asia-pacific/unidentified-gunmen-open-fire-pakistans-gwadar-port-two-attackers-killed-2024-03-20/ on URL https://news.google.com/rss/articles/CBMif2h0dHBzOi8vd3d3LnJldXRlcnMuY29tL3dvcmxkL2FzaWEtcGFjaWZpYy91bmlkZW50aWZpZWQtZ3VubWVuLW9wZW4tZmlyZS1wYWtpc3RhbnMtZ3dhZGFyLXBvcnQtdHdvLWF0dGFja2Vycy1raWxsZWQtMjAyNC0wMy0yMC_SAQA?oc=5&hl=en-US&gl=US&ceid=US:en\n",
      "An error occurred while fetching the article: Article `download()` failed with 403 Client Error: Max restarts limit reached for url: https://www.forbes.com/sites/pauliddon/2024/03/19/unlike-iran-pakistan-uses-fighter-jets-to-strike-its-enemies/ on URL https://news.google.com/rss/articles/CBMib2h0dHBzOi8vd3d3LmZvcmJlcy5jb20vc2l0ZXMvcGF1bGlkZG9uLzIwMjQvMDMvMTkvdW5saWtlLWlyYW4tcGFraXN0YW4tdXNlcy1maWdodGVyLWpldHMtdG8tc3RyaWtlLWl0cy1lbmVtaWVzL9IBc2h0dHBzOi8vd3d3LmZvcmJlcy5jb20vc2l0ZXMvcGF1bGlkZG9uLzIwMjQvMDMvMTkvdW5saWtlLWlyYW4tcGFraXN0YW4tdXNlcy1maWdodGVyLWpldHMtdG8tc3RyaWtlLWl0cy1lbmVtaWVzL2FtcC8?oc=5&hl=en-US&gl=US&ceid=US:en\n",
      "An error occurred while fetching the article: Article `download()` failed with 401 Client Error: HTTP Forbidden for url: https://www.reuters.com/world/asia-pacific/pakistan-carried-out-two-air-strikes-inside-afghanistan-killed-8-people-taliban-2024-03-18/ on URL https://news.google.com/rss/articles/CBMihgFodHRwczovL3d3dy5yZXV0ZXJzLmNvbS93b3JsZC9hc2lhLXBhY2lmaWMvcGFraXN0YW4tY2FycmllZC1vdXQtdHdvLWFpci1zdHJpa2VzLWluc2lkZS1hZmdoYW5pc3Rhbi1raWxsZWQtOC1wZW9wbGUtdGFsaWJhbi0yMDI0LTAzLTE4L9IBAA?oc=5&hl=en-US&gl=US&ceid=US:en\n",
      "An error occurred while fetching the article: Article `download()` failed with 429 Client Error: Unknown Error for url: https://thehill.com/homenews/4545165-audience-members-interrupt-congressional-hearing-over-pakistan-khan/ on URL https://news.google.com/rss/articles/CBMiaWh0dHBzOi8vdGhlaGlsbC5jb20vaG9tZW5ld3MvNDU0NTE2NS1hdWRpZW5jZS1tZW1iZXJzLWludGVycnVwdC1jb25ncmVzc2lvbmFsLWhlYXJpbmctb3Zlci1wYWtpc3Rhbi1raGFuL9IBbWh0dHBzOi8vdGhlaGlsbC5jb20vaG9tZW5ld3MvNDU0NTE2NS1hdWRpZW5jZS1tZW1iZXJzLWludGVycnVwdC1jb25ncmVzc2lvbmFsLWhlYXJpbmctb3Zlci1wYWtpc3Rhbi1raGFuL2FtcC8?oc=5&hl=en-US&gl=US&ceid=US:en\n",
      "An error occurred while fetching the article: Article `download()` failed with 401 Client Error: HTTP Forbidden for url: https://www.reuters.com/world/asia-pacific/ceo-pakistans-largest-bank-picked-lead-country-out-economic-crisis-2024-03-11/ on URL https://news.google.com/rss/articles/CBMieWh0dHBzOi8vd3d3LnJldXRlcnMuY29tL3dvcmxkL2FzaWEtcGFjaWZpYy9jZW8tcGFraXN0YW5zLWxhcmdlc3QtYmFuay1waWNrZWQtbGVhZC1jb3VudHJ5LW91dC1lY29ub21pYy1jcmlzaXMtMjAyNC0wMy0xMS_SAQA?oc=5&hl=en-US&gl=US&ceid=US:en\n"
     ]
    }
   ],
   "source": [
    "content = []\n",
    "for new in news:\n",
    "    article = google_news.get_full_article(new['url'])\n",
    "    if article is not None:\n",
    "        content.append({'title': article.title, 'author': article.authors, 'text': article.text, 'images': article.images, 'url': new['url'], 'download': 1})\n",
    "    else:\n",
    "        content.append({'title': None, 'author': None, 'text': None, 'images': None, 'url': new['url'], 'download': 0})\n"
   ]
  },
  {
   "cell_type": "code",
   "execution_count": 44,
   "metadata": {},
   "outputs": [],
   "source": [
    "# Convert content list to DataFrame\n",
    "df = pd.DataFrame(content)\n",
    "\n",
    "# Save DataFrame to JSON file\n",
    "df.to_csv('content-news.csv', index=False)\n"
   ]
  }
 ],
 "metadata": {
  "kernelspec": {
   "display_name": "base",
   "language": "python",
   "name": "python3"
  },
  "language_info": {
   "codemirror_mode": {
    "name": "ipython",
    "version": 3
   },
   "file_extension": ".py",
   "mimetype": "text/x-python",
   "name": "python",
   "nbconvert_exporter": "python",
   "pygments_lexer": "ipython3",
   "version": "3.11.6"
  }
 },
 "nbformat": 4,
 "nbformat_minor": 2
}
